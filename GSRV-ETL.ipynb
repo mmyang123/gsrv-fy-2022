{
 "cells": [
  {
   "cell_type": "markdown",
   "id": "51d10252",
   "metadata": {},
   "source": [
    "## GSRV SP Shop Monthly Reports - The ETL Process\n",
    "\n",
    "### Overview\n",
    "\n",
    "I am using pandas to aggregate the eleven csv files of the GSRV Retail monthly reports to clean and transform them before loading the datasets into Tableau.\n",
    "\n",
    "All the csv files are for GSRV Fiscal record year 2022, and has a total of 11 months worth of data for the Saint Paul Retail Shop."
   ]
  },
  {
   "cell_type": "code",
   "execution_count": 1,
   "id": "090ac11c",
   "metadata": {},
   "outputs": [],
   "source": [
    "# Dependencies\n",
    "import pandas as pd\n",
    "import numpy as np\n",
    "import os\n",
    "import csv"
   ]
  },
  {
   "cell_type": "markdown",
   "id": "7bae7e5e",
   "metadata": {},
   "source": [
    "## Extract Datasets"
   ]
  },
  {
   "cell_type": "code",
   "execution_count": null,
   "id": "8a8f00c5",
   "metadata": {},
   "outputs": [],
   "source": [
    "# Loading the first month's CSV file\n",
    "jan_month_report = pd.read_csv(\"Resources\")"
   ]
  },
  {
   "cell_type": "code",
   "execution_count": null,
   "id": "039f8c25",
   "metadata": {},
   "outputs": [],
   "source": []
  },
  {
   "cell_type": "code",
   "execution_count": null,
   "id": "88240276",
   "metadata": {},
   "outputs": [],
   "source": []
  },
  {
   "cell_type": "code",
   "execution_count": null,
   "id": "81132a57",
   "metadata": {},
   "outputs": [],
   "source": []
  },
  {
   "cell_type": "code",
   "execution_count": null,
   "id": "1399072b",
   "metadata": {},
   "outputs": [],
   "source": []
  },
  {
   "cell_type": "code",
   "execution_count": null,
   "id": "99b65675",
   "metadata": {},
   "outputs": [],
   "source": []
  },
  {
   "cell_type": "code",
   "execution_count": null,
   "id": "a02fa9fe",
   "metadata": {},
   "outputs": [],
   "source": []
  },
  {
   "cell_type": "code",
   "execution_count": null,
   "id": "d70e09cb",
   "metadata": {},
   "outputs": [],
   "source": []
  }
 ],
 "metadata": {
  "kernelspec": {
   "display_name": "Python 3 (ipykernel)",
   "language": "python",
   "name": "python3"
  },
  "language_info": {
   "codemirror_mode": {
    "name": "ipython",
    "version": 3
   },
   "file_extension": ".py",
   "mimetype": "text/x-python",
   "name": "python",
   "nbconvert_exporter": "python",
   "pygments_lexer": "ipython3",
   "version": "3.8.13"
  }
 },
 "nbformat": 4,
 "nbformat_minor": 5
}
